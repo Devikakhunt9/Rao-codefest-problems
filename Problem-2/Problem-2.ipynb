{
 "cells": [
  {
   "cell_type": "code",
   "execution_count": 3,
   "id": "aa3f321e",
   "metadata": {},
   "outputs": [],
   "source": [
    "def ans(R,S,H):\n",
    "    totalWalls = (R*3)+(S*4)+(H*6)\n",
    "    totalHours = ((totalWalls/3)*2.5) + (((totalWalls*2)/3)*3.25)\n",
    "    accentQua = (totalWalls/3)*1.5\n",
    "    regularQua = (((totalWalls*2)/3)*2.25)\n",
    "    return totalHours,accentQua,regularQua\n",
    "smallInput = open(\"ET_small.txt\",\"r\").readlines()\n",
    "smallInput = [s.rstrip(\"\\n\") for s in smallInput]\n",
    "smallOutput = open(\"SmallOutput.txt\",\"a\")\n",
    "smallInput.pop(0)\n",
    "case = 1\n",
    "index = 0\n",
    "outputHours = 0\n",
    "outputAccentQua = 0\n",
    "outputRegularQua = 0\n",
    "for i in smallInput:\n",
    "    if len(i) <= 3:\n",
    "        index += 1\n",
    "        for j in range(int(i)):\n",
    "            temp = smallInput[index].split(\",\")\n",
    "            outputHours += ans(int(temp[1]),int(temp[2]),int(temp[3]))[0]\n",
    "            outputAccentQua += ans(int(temp[1]),int(temp[2]),int(temp[3]))[1]\n",
    "            outputRegularQua += ans(int(temp[1]),int(temp[2]),int(temp[3]))[2]\n",
    "            index += 1\n",
    "        smallOutput.write(\"Case #\"+str(case)+\": \"+str(outputHours)+\", \"+str(outputAccentQua)+\", \"+str(outputRegularQua)+\"\\n\")\n",
    "        case += 1\n",
    "        outputHours=0\n",
    "        outputAccentQua = 0\n",
    "        outputRegularQua = 0\n",
    "smallOutput.close()"
   ]
  },
  {
   "cell_type": "code",
   "execution_count": 4,
   "id": "c0f1292e",
   "metadata": {},
   "outputs": [],
   "source": [
    "largeInput = open(\"ET_large.txt\",\"r\").readlines()\n",
    "largeInput = [s.rstrip(\"\\n\") for s in largeInput]\n",
    "largeOutput = open(\"LargeOutput.txt\",\"a\")\n",
    "largeInput.pop(0)\n",
    "case = 1\n",
    "index = 0\n",
    "outputHours = 0\n",
    "outputAccentQua = 0\n",
    "outputRegularQua = 0\n",
    "for i in largeInput:\n",
    "    if len(i) <= 3:\n",
    "        index += 1\n",
    "        for j in range(int(i)):\n",
    "            temp = largeInput[index].split(\",\")\n",
    "            outputHours += ans(int(temp[1]),int(temp[2]),int(temp[3]))[0]\n",
    "            outputAccentQua += ans(int(temp[1]),int(temp[2]),int(temp[3]))[1]\n",
    "            outputRegularQua += ans(int(temp[1]),int(temp[2]),int(temp[3]))[2]\n",
    "            index += 1\n",
    "        largeOutput.write(\"Case #\"+str(case)+\": \"+str(outputHours)+\", \"+str(outputAccentQua)+\", \"+str(outputRegularQua)+\"\\n\")\n",
    "        case += 1\n",
    "        outputHours=0\n",
    "        outputAccentQua = 0\n",
    "        outputRegularQua = 0\n",
    "largeOutput.close()"
   ]
  },
  {
   "cell_type": "code",
   "execution_count": null,
   "id": "368f0e9b",
   "metadata": {},
   "outputs": [],
   "source": []
  }
 ],
 "metadata": {
  "kernelspec": {
   "display_name": "Python 3 (ipykernel)",
   "language": "python",
   "name": "python3"
  },
  "language_info": {
   "codemirror_mode": {
    "name": "ipython",
    "version": 3
   },
   "file_extension": ".py",
   "mimetype": "text/x-python",
   "name": "python",
   "nbconvert_exporter": "python",
   "pygments_lexer": "ipython3",
   "version": "3.9.13"
  }
 },
 "nbformat": 4,
 "nbformat_minor": 5
}
